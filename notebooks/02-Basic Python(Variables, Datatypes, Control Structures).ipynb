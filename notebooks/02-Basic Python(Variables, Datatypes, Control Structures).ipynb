{
 "cells": [
  {
   "cell_type": "markdown",
   "metadata": {},
   "source": [
    "## Basics Of the Python Language"
   ]
  },
  {
   "cell_type": "markdown",
   "metadata": {},
   "source": [
    "### Preliminary Settings"
   ]
  },
  {
   "cell_type": "markdown",
   "metadata": {},
   "source": [
    "- Go to Spyder > Tools > Preferences > Ipython Console > Graphics\n",
    "- Select Activate support\n",
    "- Set backend to Qt or Tkinter (Qt)\n",
    "- Got to Advanced Settings\n",
    "- Select Greedy Completer\n",
    "- Press apply and ok.\n",
    "- Go to the ipython console and type \\% matplotlib qt (This is for making plots come as a separate window)\n",
    "- Set the Working Directory in the File Explorer\n",
    "- Copy the path of the Working Directory\n",
    "- type cd (in the ipython console) and paste the path and enter\n",
    "- Keep cursor near any command and press Ctrl+I for documentation."
   ]
  },
  {
   "cell_type": "markdown",
   "metadata": {},
   "source": [
    "### Using the Interpreter"
   ]
  },
  {
   "cell_type": "markdown",
   "metadata": {},
   "source": [
    "- Open up spyder and navigate to the tab which says **ipython console**.\n",
    "- type ```print \"hello world!\"``` and press Enter."
   ]
  },
  {
   "cell_type": "markdown",
   "metadata": {},
   "source": [
    "copy the above command into the editor and save the file as ```hello.py```. The \".py\" extension tells us and the interpreter that it is a python script."
   ]
  },
  {
   "cell_type": "markdown",
   "metadata": {},
   "source": [
    "## A Sample Python Program\n",
    "----\n",
    "\n",
    "```python\n",
    "# This is a single line comment\n",
    "\"\"\"\n",
    "    Program to find the factorial of a number.\n",
    "\tThis is also a docstring or a document string\n",
    "\"\"\"\n",
    "n = input(\"Enter a positive integer\") # To get user input data\n",
    "f = 1                                 # To initialize the fact value\n",
    "if n is 1 or 0:                       # To check if n is 0 or 1\n",
    "    exit                              # To exit the if statement\n",
    "else:                                 # To proceed further\n",
    "    for i in range(2, n+1):           # To start a loop from 2 to n.\n",
    "        f = f*i                       # Also written as f *= i\n",
    "print \"The value of {}! is {}\".format(n, f)\n",
    "```"
   ]
  }
 ],
 "metadata": {
  "kernelspec": {
   "display_name": "Python 2",
   "language": "python",
   "name": "python2"
  },
  "language_info": {
   "codemirror_mode": {
    "name": "ipython",
    "version": 2
   },
   "file_extension": ".py",
   "mimetype": "text/x-python",
   "name": "python",
   "nbconvert_exporter": "python",
   "pygments_lexer": "ipython2",
   "version": "2.7.11"
  }
 },
 "nbformat": 4,
 "nbformat_minor": 0
}
