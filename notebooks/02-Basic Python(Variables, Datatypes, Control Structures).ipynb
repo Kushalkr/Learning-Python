{
 "cells": [
  {
   "cell_type": "markdown",
   "metadata": {
    "slideshow": {
     "slide_type": "slide"
    }
   },
   "source": [
    "# Basics Of the Python Language"
   ]
  },
  {
   "cell_type": "markdown",
   "metadata": {
    "slideshow": {
     "slide_type": "slide"
    }
   },
   "source": [
    "## Preliminary Settings\n",
    "---"
   ]
  },
  {
   "cell_type": "markdown",
   "metadata": {
    "slideshow": {
     "slide_type": "fragment"
    }
   },
   "source": [
    "- Go to Spyder > Tools > Preferences > Ipython Console > Graphics\n",
    "- Select Activate support\n",
    "- Set backend to Qt or Tkinter (Qt)\n",
    "- Got to Advanced Settings\n",
    "- Select Greedy Completer\n",
    "- Press apply and ok.\n",
    "- Go to the ipython console and type ```%matplotlib qt```(This is for making plots come as a separate window)\n",
    "- Set the Working Directory in the File Explorer\n",
    "- Copy the path of the Working Directory\n",
    "- type cd (in the ipython console) and paste the path and enter\n",
    "- Keep cursor near any command and press Ctrl+I for documentation."
   ]
  },
  {
   "cell_type": "markdown",
   "metadata": {
    "slideshow": {
     "slide_type": "slide"
    }
   },
   "source": [
    "## Using the Interpreter\n",
    "---"
   ]
  },
  {
   "cell_type": "markdown",
   "metadata": {
    "slideshow": {
     "slide_type": "fragment"
    }
   },
   "source": [
    "### Exercise 1\n",
    "\n",
    "- Open up spyder and navigate to the tab which says **ipython console**.\n",
    "- type ```print \"hello world!\"``` and press Enter.\n",
    "\n",
    "copy the above command into the editor and save the file as ```hello.py```. The \".py\" extension tells us and the interpreter that it is a python script."
   ]
  },
  {
   "cell_type": "markdown",
   "metadata": {
    "slideshow": {
     "slide_type": "fragment"
    }
   },
   "source": [
    "Python can also be used as a calculator.\n",
    "### Exercise 2\n",
    "\n",
    "- In spyder open a new text file and enter the following commands. Try to predict what they will print before running the script.\n",
    "\n",
    "```python\n",
    "print 3 + 5\n",
    "print \"3 + 5\"\n",
    "print 6/2\n",
    "print 6//2\n",
    "print 5*4\n",
    "print 5**2\n",
    "```"
   ]
  },
  {
   "cell_type": "markdown",
   "metadata": {
    "slideshow": {
     "slide_type": "slide"
    }
   },
   "source": [
    "## Sample Python program\n",
    "-----\n",
    "\n",
    "\n",
    "```python\n",
    "# This is a single line comment\n",
    "\"\"\"\n",
    "    Program to find the factorial of a number.\n",
    "\tThis is also a docstring or a document string\n",
    "\"\"\"\n",
    "n = input(\"Enter a positive integer\") # To get user input data\n",
    "f = 1                                 # To initialize the fact value\n",
    "if n is 1 or 0:                       # To check if n is 0 or 1\n",
    "    exit                              # To exit the if statement\n",
    "else:                                 # To proceed further\n",
    "    for i in range(2, n+1):           # To start a loop from 2 to n.\n",
    "        f = f*i                       # Also written as f *= i\n",
    "print \"The value of {}! is {}\".format(n, f)\n",
    "```"
   ]
  },
  {
   "cell_type": "markdown",
   "metadata": {
    "slideshow": {
     "slide_type": "slide"
    }
   },
   "source": [
    "## Comments\n",
    "---\n",
    "\n",
    "Comment - Lines that are ignored when the program is run. Used for excluding codes and for including messages.\n",
    "```python\n",
    "\n",
    "# This is a single line comment\n",
    "# Comment begins with a hash # symbol\n",
    "\n",
    "```\n",
    "Docstrings - Document strings. Multi-line comments. But more useful for including help/direction messages that appear when help utilities are called.\n",
    "```python\n",
    "\"\"\"\n",
    "    This is a Docstring. It starts and ends with \n",
    "    triple \" or triple ' quotes. Mix and match does not work!\n",
    "\"\"\"\n",
    "```"
   ]
  },
  {
   "cell_type": "markdown",
   "metadata": {
    "slideshow": {
     "slide_type": "slide"
    }
   },
   "source": [
    "## Primary Data Types\n",
    "---\n",
    "\n",
    "There are certain standard data types that are used in python.\n",
    "```python\n",
    "\n",
    "i = 1 # This is an integer.\n",
    "r = 5.52 # This a float which stores numbers with decimal parts.\n",
    "c = 'h' # This is a single character.\n",
    "s = 'hello' # This is a string.\n",
    "l = True/False # This is a logical.\n",
    "\n",
    "```"
   ]
  },
  {
   "cell_type": "markdown",
   "metadata": {
    "slideshow": {
     "slide_type": "fragment"
    }
   },
   "source": [
    "## Operators\n",
    "---\n",
    "\n",
    "```python\n",
    "\n",
    "a + b        # Addition\n",
    "a - b        # Subtraction\n",
    "a * b        # Multiplication\n",
    "a / b        # Division\n",
    "a ** b       # Exponent\n",
    "a += b       # Increment\n",
    "and, or, not # Logical\n",
    ">, <, ==     # Relational\n",
    "in, not in   # Membership\n",
    "is, is not   # Identity\n",
    "```"
   ]
  },
  {
   "cell_type": "markdown",
   "metadata": {
    "slideshow": {
     "slide_type": "slide"
    }
   },
   "source": [
    "## Lists\n",
    "---\n",
    "\n",
    "**Mutable**, Multi-level non-homogenous arrays that can hold multiple data types.\n",
    "```python\n",
    "a = ['5', 1.0, 7, True]\n",
    "b = ['hello,', 'This', 'is', 'a', 'list', 'of', 'strings' ]\n",
    "```\n",
    "the list elements are accessed by [ ]. the indexing starts from 0."
   ]
  },
  {
   "cell_type": "markdown",
   "metadata": {
    "slideshow": {
     "slide_type": "subslide"
    }
   },
   "source": [
    "## Tuples\n",
    "---\n",
    "\n",
    "**Immutable**, Multi-level non-homogenous arrays that can hold multiple data types.\n",
    "```python\n",
    "x = ('abc', 3.1415, 872, False)\n",
    "y = (7, ('is', 10000, 9.46), True)\n",
    "```\n",
    "the elements of a tuple are accessed by ( ). the indexing starts is same as that for lists."
   ]
  },
  {
   "cell_type": "markdown",
   "metadata": {
    "slideshow": {
     "slide_type": "subslide"
    }
   },
   "source": [
    "## Dictionaries\n",
    "---\n",
    "Dictionaries are a very powerful datatypes. They are composite data types having what is known as **key-value** pairs. This is especially important in creating files in the the field of atmospheric science.\n",
    "\n",
    "A typical dictionary is\n",
    "```python\n",
    "data = {'a':5, 'b':[5, 7.0, 9], 'c':'names'}\n",
    "```\n",
    "where the dictionary is defined as **key:value**."
   ]
  },
  {
   "cell_type": "code",
   "execution_count": 1,
   "metadata": {
    "collapsed": false,
    "slideshow": {
     "slide_type": "fragment"
    }
   },
   "outputs": [
    {
     "name": "stdout",
     "output_type": "stream",
     "text": [
      "{'a': 5, 'c': 'names', 'b': [5, 7.0, 9]}\n",
      "5\n",
      "[5, 7.0, 9]\n",
      "names\n"
     ]
    }
   ],
   "source": [
    "data = {'a':5, 'b':[5, 7.0, 9], 'c':'names'}\n",
    "print data\n",
    "print data['a']\n",
    "print data['b']\n",
    "print data['c']"
   ]
  },
  {
   "cell_type": "markdown",
   "metadata": {
    "slideshow": {
     "slide_type": "subslide"
    }
   },
   "source": [
    "## Numpy Arrays\n",
    "---\n",
    "\n",
    "For scientific computing, the most important data type is the n-dimensional array. The ndarray data type is defined in the module numpy. The numpy module has to be first imported. To import numpy, type\n",
    "\n",
    "```python\n",
    "import numpy as np\n",
    "```\n",
    "The above line imports the numpy module. While writing scripts, the import statements generally goes at the beginning of the script. Below are few examples of using numpy modules:"
   ]
  },
  {
   "cell_type": "markdown",
   "metadata": {
    "slideshow": {
     "slide_type": "subslide"
    }
   },
   "source": [
    "## Numpy Arrays\n",
    "---"
   ]
  },
  {
   "cell_type": "code",
   "execution_count": 2,
   "metadata": {
    "collapsed": false,
    "slideshow": {
     "slide_type": "fragment"
    }
   },
   "outputs": [
    {
     "name": "stdout",
     "output_type": "stream",
     "text": [
      "<type 'list'>\n",
      "<type 'tuple'>\n",
      "<type 'numpy.ndarray'>\n",
      "<type 'numpy.ndarray'>\n",
      "int64\n",
      "float64\n"
     ]
    }
   ],
   "source": [
    "import numpy as np\n",
    "l = [1, 3, 5]\n",
    "x = (7.0, 20., 9)\n",
    "a = np.array(l)\n",
    "b = np.array(x)\n",
    "print type(l)\n",
    "print type(x)\n",
    "print type(a)\n",
    "print type(b)\n",
    "print np.dtype(a[1])\n",
    "print np.dtype(b[2])"
   ]
  },
  {
   "cell_type": "markdown",
   "metadata": {
    "slideshow": {
     "slide_type": "fragment"
    }
   },
   "source": [
    "The datatype is assumed when an array is created. you can also specify it as follows,\n",
    "```python\n",
    "a = np.array(x, dtpye=np.float32)\n",
    "```"
   ]
  },
  {
   "cell_type": "markdown",
   "metadata": {
    "slideshow": {
     "slide_type": "slide"
    }
   },
   "source": [
    "## Slicing\n",
    "---"
   ]
  },
  {
   "cell_type": "code",
   "execution_count": 1,
   "metadata": {
    "collapsed": false,
    "slideshow": {
     "slide_type": "fragment"
    }
   },
   "outputs": [
    {
     "name": "stdout",
     "output_type": "stream",
     "text": [
      "1\n",
      "[1, 2, 3, 4]\n",
      "[6, 7, 8, 9]\n",
      "[1, 2, 3, 4, 5, 6, 7, 8, 9]\n",
      "[1, 3, 5, 7, 9]\n"
     ]
    }
   ],
   "source": [
    "a = [1, 2, 3, 4, 5, 6, 7, 8, 9]\n",
    "print a[0]\n",
    "print a[:4]\n",
    "print a[5:]\n",
    "print a[:]\n",
    "print a[::2]"
   ]
  },
  {
   "cell_type": "markdown",
   "metadata": {
    "slideshow": {
     "slide_type": "slide"
    }
   },
   "source": [
    "## Conditional Statements\n",
    "---"
   ]
  },
  {
   "cell_type": "markdown",
   "metadata": {
    "slideshow": {
     "slide_type": "fragment"
    }
   },
   "source": [
    "The three basic conditional statements are **if**, **else** and **elif**. The following program shows all three of them being used."
   ]
  },
  {
   "cell_type": "code",
   "execution_count": 3,
   "metadata": {
    "collapsed": false,
    "scrolled": true,
    "slideshow": {
     "slide_type": "fragment"
    }
   },
   "outputs": [
    {
     "name": "stdout",
     "output_type": "stream",
     "text": [
      "Enter a value for n:5\n",
      "Execution at else\n",
      "The value of 5! = 120\n"
     ]
    }
   ],
   "source": [
    "f = 1\n",
    "n = input(\"Enter a value for n:\")\n",
    "if isinstance(n, int): # Checks whether the value is integer or not\n",
    "    if n is 1 or 0:\n",
    "        print \"Execution at if\"\n",
    "        print \"The value of {}! = {}\".format(n, f)\n",
    "        exit\n",
    "    elif n<0:\n",
    "        print \"Execution at elif\"\n",
    "        print \"n is negative!\"\n",
    "    else:\n",
    "        print \"Execution at else\"\n",
    "        for i in range(2, n+1):\n",
    "            f *= i\n",
    "        print \"The value of {}! = {}\".format(n, f)\n",
    "else:\n",
    "    print \"Factorial does not exist\""
   ]
  },
  {
   "cell_type": "markdown",
   "metadata": {
    "collapsed": true,
    "slideshow": {
     "slide_type": "slide"
    }
   },
   "source": [
    "## Loops\n",
    "---"
   ]
  },
  {
   "cell_type": "markdown",
   "metadata": {
    "slideshow": {
     "slide_type": "fragment"
    }
   },
   "source": [
    "### For Loop\n",
    "\n",
    "This type of loop is used when you know the number of times the iterations has to be done beforehand. The For loop is generally invoked along with the ```range``` function as:\n",
    "```python\n",
    "for i in range(10):\n",
    "    statements\n",
    "```\n",
    "where range creates a list of integers from 0 to 9."
   ]
  },
  {
   "cell_type": "markdown",
   "metadata": {
    "slideshow": {
     "slide_type": "fragment"
    }
   },
   "source": [
    "### While Loop\n",
    "\n",
    "This type of loop is used when you know the number of times the iterations has to be done beforehand. The For loop is generally invoked along with the ```range``` function as:\n",
    "```python\n",
    "while conditional expression:\n",
    "    statements\n",
    "```"
   ]
  },
  {
   "cell_type": "markdown",
   "metadata": {
    "slideshow": {
     "slide_type": "subslide"
    }
   },
   "source": [
    "## Loops\n",
    "---\n",
    "\n",
    "Exercise:\n",
    "\n",
    "Write a program to print out the letters of your name(Preferably given as user input).\n",
    "\n",
    "PS: the length of a string can be found out by typing ```len(var)```. Where, ```var``` is a string variable. Also, for input, use the ```raw_input``` function."
   ]
  },
  {
   "cell_type": "markdown",
   "metadata": {
    "slideshow": {
     "slide_type": "fragment"
    }
   },
   "source": [
    "Solution:\n",
    "```python\n",
    "name = raw_input('Enter your name:')\n",
    "for i in range(len(name)):\n",
    "    print name[i]\n",
    "```"
   ]
  },
  {
   "cell_type": "markdown",
   "metadata": {
    "slideshow": {
     "slide_type": "slide"
    }
   },
   "source": [
    "## Functions\n",
    "---\n",
    "Used to make code reusable. Functions are data-type independent. Functions are created by using the ```def``` keyword."
   ]
  },
  {
   "cell_type": "code",
   "execution_count": 4,
   "metadata": {
    "collapsed": false,
    "slideshow": {
     "slide_type": "fragment"
    }
   },
   "outputs": [
    {
     "name": "stdout",
     "output_type": "stream",
     "text": [
      "Enter a value for n:1\n",
      "Execution at if\n",
      "The value of 1! = 1\n"
     ]
    }
   ],
   "source": [
    "def fact(n):\n",
    "    f = 1 # This is a local variable. Accessible only inside the function\n",
    "    if isinstance(n, int): # Checks whether the value is integer or not\n",
    "        if n is 1 or 0:\n",
    "            print \"Execution at if\"\n",
    "            print \"The value of {}! = {}\".format(n, f)\n",
    "            exit\n",
    "        elif n<0:\n",
    "            f = 0\n",
    "            print \"Execution at elif\"\n",
    "            print \"n is negative!\"\n",
    "        else:\n",
    "            print \"Execution at else\"\n",
    "            for i in range(2, n+1):\n",
    "                f *= i\n",
    "            print \"The value of {}! = {}\".format(n, f)\n",
    "    else:\n",
    "        f = 0\n",
    "        print \"Factorial does not exist\"\n",
    "    return f\n",
    "n = input(\"Enter a value for n:\")\n",
    "f = fact(n)"
   ]
  },
  {
   "cell_type": "markdown",
   "metadata": {
    "slideshow": {
     "slide_type": "slide"
    }
   },
   "source": [
    "## Modules\n",
    "---\n",
    "\n",
    "Modules contain definitions of classes, functions and variables. Modules help organize code better. Some of the modules we will be using are Numpy, Scipy, matplotlib, Cartopy."
   ]
  },
  {
   "cell_type": "markdown",
   "metadata": {
    "slideshow": {
     "slide_type": "fragment"
    }
   },
   "source": [
    "There are different ways to call modules.\n",
    "```python\n",
    "import numpy                            # Imports the entire Numpy module\n",
    "\n",
    "from numpy import *                     # Imports all functions, classes and variables from the Numpy module\n",
    "\n",
    "from numpy import sqrt                  # Import only the square root function from the Numpy module\n",
    "\n",
    "from cartopy import crs as ccrs         # Import the crs module from the Cartopy module with a shorter name\n",
    "\n",
    "import numpy as np                  # Import the numpy module with a different name\n",
    "\n",
    "```"
   ]
  }
 ],
 "metadata": {
  "celltoolbar": "Slideshow",
  "kernelspec": {
   "display_name": "Python 2",
   "language": "python",
   "name": "python2"
  },
  "language_info": {
   "codemirror_mode": {
    "name": "ipython",
    "version": 2
   },
   "file_extension": ".py",
   "mimetype": "text/x-python",
   "name": "python",
   "nbconvert_exporter": "python",
   "pygments_lexer": "ipython2",
   "version": "2.7.11"
  }
 },
 "nbformat": 4,
 "nbformat_minor": 0
}
