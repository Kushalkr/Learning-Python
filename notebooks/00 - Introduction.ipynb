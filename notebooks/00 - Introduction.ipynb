{
 "cells": [
  {
   "cell_type": "markdown",
   "metadata": {
    "slideshow": {
     "slide_type": "slide"
    }
   },
   "source": [
    "# Learning Python"
   ]
  },
  {
   "cell_type": "markdown",
   "metadata": {
    "slideshow": {
     "slide_type": "fragment"
    }
   },
   "source": [
    "Kushal. K. R (kushalkr2992@gmail.com)\n",
    "\n",
    "These notebooks can be found at [https://github.com/Kushalkr/Learning-Python](https://github.com/Kushalkr/Learning-Python)"
   ]
  },
  {
   "cell_type": "markdown",
   "metadata": {
    "slideshow": {
     "slide_type": "slide"
    }
   },
   "source": [
    "## About this tutorial"
   ]
  },
  {
   "cell_type": "markdown",
   "metadata": {
    "slideshow": {
     "slide_type": "fragment"
    }
   },
   "source": [
    "This was a personal project of mine and was derived from a tutorial given by Arun Prasaad Gunasekaran of CAOS. The main aim of this tutorial is to learn and use python for Analyzing and Visualizing data in the field of Atmospheric Sciences.\n",
    "This tutorial is mainly intended towards beginners in programming.\n",
    "Prior knowledge of programming is not assumed but it is good if the user has experience with some programmming language."
   ]
  },
  {
   "cell_type": "markdown",
   "metadata": {
    "slideshow": {
     "slide_type": "slide"
    }
   },
   "source": [
    "## What you will be learning\n",
    "\n",
    "The topics that will be covered are:\n",
    "\n",
    "* What is Python?\n",
    "* Installing Python and necessary packages\n",
    "* Basics (Data types, Conditions, Loops)\n",
    "* File I/O\n",
    "* Numpy and Matplotlib\n",
    "* Reading and Plotting NetCDF Files (Using Cartopy)"
   ]
  },
  {
   "cell_type": "markdown",
   "metadata": {
    "slideshow": {
     "slide_type": "slide"
    }
   },
   "source": [
    "## What is Python?"
   ]
  },
  {
   "cell_type": "markdown",
   "metadata": {
    "slideshow": {
     "slide_type": "fragment"
    }
   },
   "source": [
    "Python is a **High Level**, **Interpreted**, **Objected-Oriented** programming language."
   ]
  },
  {
   "cell_type": "markdown",
   "metadata": {
    "slideshow": {
     "slide_type": "slide"
    }
   },
   "source": [
    "## Why Python?"
   ]
  },
  {
   "cell_type": "markdown",
   "metadata": {
    "slideshow": {
     "slide_type": "fragment"
    }
   },
   "source": [
    "<center>\n",
    "<img src=\"images/python.png\" width=500\\>\n",
    "</center>"
   ]
  },
  {
   "cell_type": "markdown",
   "metadata": {
    "slideshow": {
     "slide_type": "subslide"
    }
   },
   "source": [
    "On a more serious note, \n",
    "* It is **open-source(free)**, **Cross-Platform** and **Interpreted**.\n",
    "* Simple Syntax, Easy to learn.\n",
    "* Able to interface with other languages (especially **fortran** and **C**).\n",
    "* Great choice of **Vizualization** tools.\n",
    "* No **Software piracy issues** because it is **open-source**."
   ]
  },
  {
   "cell_type": "markdown",
   "metadata": {
    "slideshow": {
     "slide_type": "fragment"
    }
   },
   "source": [
    "Python is not absolutely advantageous. However, there are few advantages,\n",
    "\n",
    "- Less lead time.\n",
    "- Can be optimized to some extent for performance.\n",
    "- Certain packages like numpy which is most frequently used are highly optimized.\n",
    "- 2D and 3D plotting are quite simple.\n",
    "\n",
    "Python is a general purpose language which can be tailored and used according to our needs. However, there are other languages that are used in the field of Atmospheric and Earth Sciences such as NCL, Ferret, Fortran, R etc..."
   ]
  },
  {
   "cell_type": "markdown",
   "metadata": {
    "slideshow": {
     "slide_type": "slide"
    }
   },
   "source": [
    "## Some Good Resources\n",
    "---\n",
    "- [A Hands-On Introduction to Using Python in the Atmospheric and Oceanic Sciences](http://www.johnny-lin.com/pyintro/).\n",
    "- [Johansson's Scientific Python lectures](https://github.com/jrjohansson/scientific-python-lectures)\n",
    "- [Python for Geosciences by Nikolay Koldunov](https://github.com/koldunovn/python_for_geosciences)\n",
    "- [Scientific Programming in Python for Atmospheric Sciences and Climatology](https://github.com/hvwaldow/pyws-BE-15-2-26)"
   ]
  }
 ],
 "metadata": {
  "celltoolbar": "Slideshow",
  "kernelspec": {
   "display_name": "Python 2",
   "language": "python",
   "name": "python2"
  },
  "language_info": {
   "codemirror_mode": {
    "name": "ipython",
    "version": 2
   },
   "file_extension": ".py",
   "mimetype": "text/x-python",
   "name": "python",
   "nbconvert_exporter": "python",
   "pygments_lexer": "ipython2",
   "version": "2.7.11"
  }
 },
 "nbformat": 4,
 "nbformat_minor": 0
}
