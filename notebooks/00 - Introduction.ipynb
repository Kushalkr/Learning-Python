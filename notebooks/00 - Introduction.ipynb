{
 "cells": [
  {
   "cell_type": "markdown",
   "metadata": {
    "slideshow": {
     "slide_type": "slide"
    }
   },
   "source": [
    "# Learning Python"
   ]
  },
  {
   "cell_type": "markdown",
   "metadata": {
    "slideshow": {
     "slide_type": "fragment"
    }
   },
   "source": [
    "Kushal. K. R (kushalkr2992@gmail.com)\n",
    "\n",
    "These notebooks can be found at [https://github.com/Kushalkr/Learning-Python](https://github.com/Kushalkr/Learning-Python)"
   ]
  },
  {
   "cell_type": "markdown",
   "metadata": {
    "slideshow": {
     "slide_type": "slide"
    }
   },
   "source": [
    "## About this tutorial"
   ]
  },
  {
   "cell_type": "markdown",
   "metadata": {
    "slideshow": {
     "slide_type": "fragment"
    }
   },
   "source": [
    "This was a personal project of mine for learning and using python to Visualize data obtained from climate models and various observations in the field of Atmospheric Science.\n",
    "This tutorial is mainly intended towards beginners in programming.\n",
    "Prior knowledge of programming is not assumed but it is good if the user has experience with some programmming language."
   ]
  },
  {
   "cell_type": "markdown",
   "metadata": {
    "slideshow": {
     "slide_type": "slide"
    }
   },
   "source": [
    "## What you will be learning"
   ]
  },
  {
   "cell_type": "markdown",
   "metadata": {
    "slideshow": {
     "slide_type": "fragment"
    }
   },
   "source": [
    "The topics that will be covered are:\n",
    "\n",
    "* What is Python?\n",
    "* Installing Python and necessary packages\n",
    "* Basics (Data types, Conditions, Loops)\n",
    "* File I/O\n",
    "* Numpy and Matplotlib\n",
    "* Reading and Plotting NetCDF Files (Using Cartopy)"
   ]
  },
  {
   "cell_type": "markdown",
   "metadata": {
    "slideshow": {
     "slide_type": "slide"
    }
   },
   "source": [
    "## What is Python?"
   ]
  },
  {
   "cell_type": "markdown",
   "metadata": {
    "slideshow": {
     "slide_type": "fragment"
    }
   },
   "source": [
    "Python is an **High Level**, **Interpreted**, **Objected-Oriented** programming language."
   ]
  },
  {
   "cell_type": "markdown",
   "metadata": {
    "slideshow": {
     "slide_type": "slide"
    }
   },
   "source": [
    "## Why Python?"
   ]
  },
  {
   "cell_type": "markdown",
   "metadata": {
    "slideshow": {
     "slide_type": "fragment"
    }
   },
   "source": [
    "<center>\n",
    "<img src=\"images/python.png\" width=500\\>\n",
    "</center>"
   ]
  },
  {
   "cell_type": "markdown",
   "metadata": {
    "slideshow": {
     "slide_type": "subslide"
    }
   },
   "source": [
    "On a more serious note, \n",
    "* It is **open-source(free)**, **Cross-Platform** and **Interpreted**.\n",
    "* Simple Syntax, Easy to learn.\n",
    "* Able to interface with other languages (especially **fortran** and **C**).\n",
    "* Great choice of **Vizualization** tools.\n",
    "* No **Software piracy issues** because it is **open-source**."
   ]
  }
 ],
 "metadata": {
  "celltoolbar": "Slideshow",
  "kernelspec": {
   "display_name": "Python 2",
   "language": "python",
   "name": "python2"
  },
  "language_info": {
   "codemirror_mode": {
    "name": "ipython",
    "version": 2
   },
   "file_extension": ".py",
   "mimetype": "text/x-python",
   "name": "python",
   "nbconvert_exporter": "python",
   "pygments_lexer": "ipython2",
   "version": "2.7.11"
  }
 },
 "nbformat": 4,
 "nbformat_minor": 0
}
