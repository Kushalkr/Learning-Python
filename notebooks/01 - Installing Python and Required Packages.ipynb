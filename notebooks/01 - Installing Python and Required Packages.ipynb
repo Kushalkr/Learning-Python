{
 "cells": [
  {
   "cell_type": "markdown",
   "metadata": {},
   "source": [
    "## Installing Python"
   ]
  },
  {
   "cell_type": "markdown",
   "metadata": {},
   "source": [
    "Python is available in two versions currently, Python 2 and Python 3. Users can opt for either of the versions. My suggestion is to go with Python 2. The reason behind my choice is that, many of the packages that are required for our field are not fully developed with python 3 yet. Also, the transition to Python 3 from Python 2 is not that difficult."
   ]
  },
  {
   "cell_type": "markdown",
   "metadata": {},
   "source": [
    "There are various ways to install python and python packages like pip, pypi, from source code, Anaconda Python Distribution, Enthought Python Distribution(EPD) etc....\n",
    "\n",
    "I prefer using a python distribution like anaconda or EPD mainly because they have very good package managers and helps in updating or getting dependencies for packages easily. EPD does not give you access to many packages but for most packages that we require, so I use Anaconda.\n",
    "\n",
    "Anaconda provides all packages that are required. Also, it also allows us to use pip for installing packages that are not available through anaconda's channels."
   ]
  },
  {
   "cell_type": "markdown",
   "metadata": {},
   "source": [
    "Below, I mention the procedure for installing Anaconda on Linux, Windows and MacOS."
   ]
  },
  {
   "cell_type": "markdown",
   "metadata": {},
   "source": [
    "### Linux"
   ]
  },
  {
   "cell_type": "markdown",
   "metadata": {},
   "source": [
    "- Go to [https://www.continuum.io/downloads](https://www.continuum.io/downloads)\n",
    "- Scroll down to Linux section of the page.\n",
    "- Download appropriate version (2.7 in this case).\n",
    "- Save the Anaconda2-4.0.0-Linux-x86_64.sh file.\n",
    "- Open up a terminal window.\n",
    "- Go to directory where the Anaconda2-4.0.0-Linux-x86_64.sh file is downloaded.\n",
    "- Type  ```bash Anaconda2-4.0.0-Linux-x86_64.sh```\n",
    "- You will be asked for agreement to license, type y.\n",
    "- Provide the path where you require Anaconda to be installed.\n",
    "- You can select yes when the installation asks if you want to add anaconda to the path variable.\n",
    "- Finally test the installation by tying \"```python```\" on the command line. As shown below:\n",
    "\n",
    "```\n",
    "Python 2.7.11 |Anaconda default (64-bit)| (default, Dec  6 2015, 18:08:32) \n",
    "[GCC 4.4.7 20120313 (Red Hat 4.4.7-1)] on linux2\n",
    "Type \"help\", \"copyright\", \"credits\" or \"license\" for more information.\n",
    "Anaconda is brought to you by Continuum Analytics.\n",
    "Please check out: http://continuum.io/thanks and https://anaconda.org\n",
    ">>>\n",
    "```"
   ]
  },
  {
   "cell_type": "markdown",
   "metadata": {},
   "source": [
    "### Windows"
   ]
  },
  {
   "cell_type": "markdown",
   "metadata": {},
   "source": [
    "- Go to [https://www.continuum.io/downloads](https://www.continuum.io/downloads)\n",
    "- Scroll down to Windows section of the page.\n",
    "- Download appropriate version (2.7 in this case).\n",
    "- Save the Anaconda2-4.0.0-Windows-x86_64.exe graphical installer file.\n",
    "- Go to directory where the Anaconda2-4.0.0-Windows-x86_64.exe file is downloaded.\n",
    "- Double click on the Anaconda2-4.0.0-Windows-x86_64.exe file.\n",
    "- Provide the path where you require Anaconda to be installed.\n",
    "- Finally test the installation by going to Start->Anaconda->.\n",
    "- This will open a command window with the following printed on the screen:\n",
    "```\n",
    "Python 2.7.11 |Anaconda default (64-bit)| (default, Dec  6 2015, 18:08:32) \n",
    "[GCC 4.4.7 20120313 (Red Hat 4.4.7-1)] on linux2\n",
    "Type \"help\", \"copyright\", \"credits\" or \"license\" for more information.\n",
    "Anaconda is brought to you by Continuum Analytics.\n",
    "Please check out: http://continuum.io/thanks and https://anaconda.org\n",
    ">>>\n",
    "```"
   ]
  }
 ],
 "metadata": {
  "kernelspec": {
   "display_name": "Python 2",
   "language": "python",
   "name": "python2"
  },
  "language_info": {
   "codemirror_mode": {
    "name": "ipython",
    "version": 2
   },
   "file_extension": ".py",
   "mimetype": "text/x-python",
   "name": "python",
   "nbconvert_exporter": "python",
   "pygments_lexer": "ipython2",
   "version": "2.7.11"
  }
 },
 "nbformat": 4,
 "nbformat_minor": 0
}
