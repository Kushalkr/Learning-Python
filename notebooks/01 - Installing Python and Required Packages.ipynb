{
 "cells": [
  {
   "cell_type": "markdown",
   "metadata": {},
   "source": [
    "## Installing Python"
   ]
  },
  {
   "cell_type": "markdown",
   "metadata": {},
   "source": [
    "Python is available in two versions currently, Python 2 and Python 3. Users can opt for either of the versions. My suggestion is to go with Python 2. The reason behind my choice is that, many of the packages that are required for our field are not fully developed with python 3 yet. Also, the transition to Python 3 from Python 2 is not that difficult."
   ]
  },
  {
   "cell_type": "markdown",
   "metadata": {},
   "source": [
    "There are various ways to install python and python packages like pip, pypi, from source code, Anaconda Python Distribution, Enthought Python Distribution(EPD) etc....\n",
    "\n",
    "I prefer using a python distribution like anaconda or EPD mainly because they have very good package managers and helps in updating or getting dependencies for packages easily. EPD does not give you access to many packages but for most packages that we require, so I use Anaconda.\n",
    "\n",
    "Anaconda provides all packages that are required. Also, it also allows us to use pip for installing packages that are not available through anaconda's channels."
   ]
  },
  {
   "cell_type": "markdown",
   "metadata": {},
   "source": [
    "Below, I mention the procedure for installing Anaconda on Linux, Windows and MacOS X. I would suggest you have at least 2 Gigabytes of free space for installation of the Anaconda Python Distribution."
   ]
  },
  {
   "cell_type": "markdown",
   "metadata": {},
   "source": [
    "### Linux"
   ]
  },
  {
   "cell_type": "markdown",
   "metadata": {},
   "source": [
    "- Go to [https://www.continuum.io/downloads](https://www.continuum.io/downloads)\n",
    "- Scroll down to Linux section of the page.\n",
    "- Download appropriate version (2.7 in this case).\n",
    "- Save the Anaconda2-4.0.0-Linux-x86_64.sh file.\n",
    "- Open up a terminal window.\n",
    "- Go to directory where the Anaconda2-4.0.0-Linux-x86_64.sh file is downloaded.\n",
    "- Type  **```bash Anaconda2-4.0.0-Linux-x86_64.sh```**\n",
    "- You will be asked for agreement to license, type y.\n",
    "- Provide the path where you require Anaconda to be installed.\n",
    "- You can select yes when the installation asks if you want to add anaconda to the path variable.\n",
    "- Finally test the installation by typing **```python```** on the command line. The output should be similar to what is shown below:\n",
    "\n",
    "<img src=\"images/Python_Linux.png\">"
   ]
  },
  {
   "cell_type": "markdown",
   "metadata": {},
   "source": [
    "### Windows"
   ]
  },
  {
   "cell_type": "markdown",
   "metadata": {},
   "source": [
    "- Go to [https://www.continuum.io/downloads](https://www.continuum.io/downloads)\n",
    "- Scroll down to Windows section of the page.\n",
    "- Download appropriate version (2.7 in this case).\n",
    "- Save the Anaconda2-4.0.0-Windows-x86_64.exe graphical installer file.\n",
    "- Go to directory where the Anaconda2-4.0.0-Windows-x86_64.exe file is downloaded.\n",
    "- Double click on the Anaconda2-4.0.0-Windows-x86_64.exe file.\n",
    "- Provide the path where you require Anaconda to be installed.\n",
    "- Finally to test the installation by going to Start->Anaconda2(64-Bit)->Anaconda Prompt.\n",
    "- This will open a command window.\n",
    "- type **```python```** in the command window that is opened. The output should be similar to what is below:\n",
    "\n",
    "<img src=\"images/Python_windows.png\">"
   ]
  },
  {
   "cell_type": "markdown",
   "metadata": {},
   "source": [
    "### MacOS X"
   ]
  },
  {
   "cell_type": "markdown",
   "metadata": {},
   "source": [
    "- Go to [https://www.continuum.io/downloads](https://www.continuum.io/downloads)\n",
    "- Scroll down to OS X section of the page.\n",
    "- Download appropriate version (2.7 in this case).\n",
    "- Save the Anaconda2-4.0.0-MacOSX-x86_64.sh file.\n",
    "- Open up a terminal window.\n",
    "- Go to directory where the Anaconda2-4.0.0-MacOSX-x86_64.sh file is downloaded.\n",
    "- Type  **```bash Anaconda2-4.0.0-MacOSX-x86_64.sh```**\n",
    "- You will be asked for agreement to license, type y.\n",
    "- Provide the path where you require Anaconda to be installed.\n",
    "- You can select yes when the installation asks if you want to add anaconda to the path variable.\n",
    "- Finally test the installation by typing **```python```** on the command line."
   ]
  },
  {
   "cell_type": "markdown",
   "metadata": {},
   "source": [
    "## Packages"
   ]
  },
  {
   "cell_type": "markdown",
   "metadata": {},
   "source": [
    "The Anaconda Python Distribution installs most of the packages that we require. However, to make spatial plots or plots with maps we need to install additional packages like basemap or cartopy.\n",
    "\n",
    "For plotting, I prefer to use Cartopy for plotting. So, I suggest you install the cartopy packages by typing **conda install -c scitools cartopy**."
   ]
  },
  {
   "cell_type": "markdown",
   "metadata": {},
   "source": [
    "### Installing New Packages\n",
    "\n",
    "You can install new packages by typing **conda install package-name**"
   ]
  },
  {
   "cell_type": "markdown",
   "metadata": {},
   "source": [
    "### Updating packages\n",
    "\n",
    "In order to get latest packages first update the package manager by typing **conda update conda**.\n",
    "\n",
    "Then, you can update existing packages by typing **conda update package-name**."
   ]
  },
  {
   "cell_type": "markdown",
   "metadata": {},
   "source": [
    "### Spyder\n",
    "\n",
    "For writing code in python, it is preferred to use what is called an Integrated  Development Environment(IDE). For this tutorial, I am going to use an IDE called **Spyder**. Spyder is installed along with Anaconda so you don't have to install anything extra. You can also choose to use your preferred text editor to write the code and have a terminal for running it. Spyder comes with a editor as well as a built in python and ipython console.\n",
    "\n",
    "In order to run spyder, in Linux(as well as MacOSX), open a terminal, type **spyder** and the spyder window will open after which you're ready to start typing.\n",
    "\n",
    "On Windows, Go to the start menu, Anaconda2(64Bit), then click on the Spyder icon. It will start the spyder application, and you can start using it."
   ]
  }
 ],
 "metadata": {
  "kernelspec": {
   "display_name": "Python 2",
   "language": "python",
   "name": "python2"
  },
  "language_info": {
   "codemirror_mode": {
    "name": "ipython",
    "version": 2
   },
   "file_extension": ".py",
   "mimetype": "text/x-python",
   "name": "python",
   "nbconvert_exporter": "python",
   "pygments_lexer": "ipython2",
   "version": "2.7.11"
  }
 },
 "nbformat": 4,
 "nbformat_minor": 0
}
