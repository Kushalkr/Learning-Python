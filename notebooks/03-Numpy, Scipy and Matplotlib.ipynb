{
 "cells": [
  {
   "cell_type": "markdown",
   "metadata": {
    "slideshow": {
     "slide_type": "slide"
    }
   },
   "source": [
    "# Numpy, Scipy and Matplotlib"
   ]
  },
  {
   "cell_type": "markdown",
   "metadata": {
    "slideshow": {
     "slide_type": "slide"
    }
   },
   "source": [
    "## Importing Data from Text files\n",
    "### Method 1 - Using Lists"
   ]
  },
  {
   "cell_type": "code",
   "execution_count": 1,
   "metadata": {
    "collapsed": true,
    "slideshow": {
     "slide_type": "fragment"
    }
   },
   "outputs": [],
   "source": [
    "f = open('data/rain_data.txt','r') # Create a file pointer with syntax as open(filename,access type)\n",
    "contents = f.readlines()      # Reads contents of the file into a list\n",
    "y = []\n",
    "sec = []\n",
    "rain = []\n",
    "for line in contents:\n",
    "    a, b, c = line.split()\n",
    "    y.append(a)\n",
    "    sec.append(b)\n",
    "    rain.append(c)\n",
    "f.close()"
   ]
  },
  {
   "cell_type": "markdown",
   "metadata": {},
   "source": [
    "### Method 2 - Using Numpy Arrays"
   ]
  },
  {
   "cell_type": "code",
   "execution_count": 2,
   "metadata": {
    "collapsed": false
   },
   "outputs": [
    {
     "name": "stdout",
     "output_type": "stream",
     "text": [
      "[   1.0019    1.0089    1.0158 ...,  220.4157  220.4227    1.0784]\n",
      "(30597,)\n",
      "(30597,)\n"
     ]
    }
   ],
   "source": [
    "import numpy as np\n",
    "\n",
    "f = open('data/rain_data.txt','r')\n",
    "contents = f.readlines()\n",
    "l = len(contents)\n",
    "y = np.zeros(l,dtype=np.int16)\n",
    "sec = np.zeros(l)\n",
    "rain = np.zeros(l)\n",
    "\n",
    "i = 0\n",
    "for line in contents:\n",
    "    y[i], sec[i], rain[i] = line.split()\n",
    "    i += 1\n",
    "print sec\n",
    "print sec.shape\n",
    "print np.shape(sec)"
   ]
  },
  {
   "cell_type": "markdown",
   "metadata": {},
   "source": [
    "## Exercise 3\n",
    "---\n",
    "\n",
    "Write a program to find the first 12 Fibonacci numbers. In a Fibonacci series/sequence, if $F_n$ is the $n^{th}$ term of the series, (provided $n \\ge 2$) then it can be given in terms of the previous 2 terms, $F_{n-1}$ and $F_{n-2}$ by the recurrence relation,\n",
    "$$ F_n = F_{n-1} + F_{n-2}$$\n",
    "Find all the values till 12th term ($F_{12}$), save them and print them using loops. Take $F_0$ = 0 and $F_1$ = 1. **Use numpy arrays. Set the data type to be int8. Do you notice anything strange? Set the data type to be int16 and repeat. Do you notice anything strange?** If yes/no, can you guess what could be the reason?"
   ]
  },
  {
   "cell_type": "markdown",
   "metadata": {},
   "source": [
    "## Exercise 4\n",
    "---\n",
    "\n",
    "Assuming Surface Temperature, $T_s = 30^\\circ C$ and Surface Pressure, $P_s = 10^5 Pa$ and given following data:\n",
    "\n",
    "||||||||||||||||\n",
    "|------------------------------------------------------------------------------------------|\n",
    "| Z (Altitude in km)|0.00|0.10|0.30|0.50|1.00|2.00|3.00|4.00|5.00|6.00|7.00|8.00|9.00|10.0 |\n",
    "|RH (Relative Humidity in %)|60.0|70.0|80.0|75.0|60.0|50.0|80.0|90.0|60.0|40.0|20.0|5.0|2.0|1.0|\n",
    "\n",
    "\n",
    "- Calculate $e_s(Z)$ which is given by $A\\exp{\\left[\\frac{-B}{T}\\right]}$, where $A = 2.53 \\times 10^{11} Pa$ and $B = 5420 K$\n",
    "- Calculate $e(Z)$ which is given by $\\frac{RH \\times e_s}{100}$. (Don't divide RH by 100)\n",
    "* Calculate T(z) which is given by $T = T_S - \\frac{gZ}{C_p}$, where $g = 9.806\\ m/s^2$ and $C_p = 1005\\ J/kgK$\n",
    "* Calculate P(z) which is given by $P = P_s\\exp{\\frac{-gZ}{RT}}$, where $R = 287\\ J/kgK$\n",
    "* Calculate $\\rho$(z) which is given by $\\rho = \\frac{P}{RT}$\n",
    "* Calculate q(z) which is given by $q = 0.622\\left[\\ \\frac{e}{P} \\right]$\n",
    "* Calculate W(z), given by $W = q\\times\\ \\rho$\n",
    "* Calculate h(z), given by $h = Lq + C_pT$. Where $L = 2.5006\\times\\ 10^6\\ J/kg$. (Use T in K here)\n",
    "* Calculate MSE(z), given by $MSE = h + gZ$\n",
    "* Calculate Velocity v(z), which is given by the relation, $v = v_0\\left(\\exp\\left[\\frac{Z}{Z_s}\\right] - 1\\right)$, where, $Z_s = \\frac{RT_s}{g}$ (Where $T_s$ is in Kelvin) and $v_0 = 100\\ m/s$\n",
    "* Calculate the total energy, $E = MSE + 0.5v^2$"
   ]
  },
  {
   "cell_type": "markdown",
   "metadata": {},
   "source": [
    "\n"
   ]
  }
 ],
 "metadata": {
  "celltoolbar": "Slideshow",
  "kernelspec": {
   "display_name": "Python 2",
   "language": "python",
   "name": "python2"
  },
  "language_info": {
   "codemirror_mode": {
    "name": "ipython",
    "version": 2
   },
   "file_extension": ".py",
   "mimetype": "text/x-python",
   "name": "python",
   "nbconvert_exporter": "python",
   "pygments_lexer": "ipython2",
   "version": "2.7.11"
  }
 },
 "nbformat": 4,
 "nbformat_minor": 0
}
