{
 "cells": [
  {
   "cell_type": "markdown",
   "metadata": {
    "slideshow": {
     "slide_type": "slide"
    }
   },
   "source": [
    "# Numpy, Scipy and Matplotlib"
   ]
  },
  {
   "cell_type": "markdown",
   "metadata": {
    "slideshow": {
     "slide_type": "slide"
    }
   },
   "source": [
    "## Importing Data from Text files\n",
    "### Method 1 - Using Lists"
   ]
  },
  {
   "cell_type": "code",
   "execution_count": 1,
   "metadata": {
    "collapsed": true,
    "slideshow": {
     "slide_type": "fragment"
    }
   },
   "outputs": [],
   "source": [
    "f = open('data/rain_data.txt','r') # Create a file pointer with syntax as open(filename,access type)\n",
    "contents = f.readlines()      # Reads contents of the file into a list\n",
    "y = []\n",
    "sec = []\n",
    "rain = []\n",
    "for line in contents:\n",
    "    a, b, c = line.split()\n",
    "    y.append(a)\n",
    "    sec.append(b)\n",
    "    rain.append(c)\n",
    "f.close()"
   ]
  },
  {
   "cell_type": "markdown",
   "metadata": {
    "slideshow": {
     "slide_type": "subslide"
    }
   },
   "source": [
    "### Method 2 - Using Numpy Arrays"
   ]
  },
  {
   "cell_type": "code",
   "execution_count": 2,
   "metadata": {
    "collapsed": false,
    "slideshow": {
     "slide_type": "fragment"
    }
   },
   "outputs": [
    {
     "name": "stdout",
     "output_type": "stream",
     "text": [
      "[   1.0019    1.0089    1.0158 ...,  220.4157  220.4227    1.0784]\n",
      "(30597,)\n",
      "(30597,)\n"
     ]
    }
   ],
   "source": [
    "import numpy as np\n",
    "\n",
    "f = open('data/rain_data.txt','r')\n",
    "contents = f.readlines()\n",
    "l = len(contents)\n",
    "y = np.zeros(l,dtype=np.int16)\n",
    "sec = np.zeros(l)\n",
    "rain = np.zeros(l)\n",
    "\n",
    "i = 0\n",
    "for line in contents:\n",
    "    y[i], sec[i], rain[i] = line.split()\n",
    "    i += 1\n",
    "print sec\n",
    "print sec.shape\n",
    "print np.shape(sec)"
   ]
  },
  {
   "cell_type": "markdown",
   "metadata": {
    "slideshow": {
     "slide_type": "slide"
    }
   },
   "source": [
    "## Exercise 3\n",
    "---\n",
    "\n",
    "Write a program to find the first 12 Fibonacci numbers. In a Fibonacci series/sequence, if $F_n$ is the $n^{th}$ term of the series, (provided $n \\ge 2$) then it can be given in terms of the previous 2 terms, $F_{n-1}$ and $F_{n-2}$ by the recurrence relation,\n",
    "$$ F_n = F_{n-1} + F_{n-2}$$\n",
    "Find all the values till 12th term ($F_{12}$), save them and print them using loops. Take $F_0$ = 0 and $F_1$ = 1. **Use numpy arrays. Set the data type to be int8. Do you notice anything strange? Set the data type to be int16 and repeat. Do you notice anything strange?** If yes/no, can you guess what could be the reason?"
   ]
  },
  {
   "cell_type": "markdown",
   "metadata": {
    "slideshow": {
     "slide_type": "subslide"
    }
   },
   "source": [
    "## Exercise 4\n",
    "---\n",
    "\n",
    "Assuming Surface Temperature, $T_s = 30^\\circ C$ and Surface Pressure, $P_s = 10^5 Pa$ and given following data:\n",
    "\n",
    "||||||||||||||||\n",
    "|------------------------------------------------------------------------------------------|\n",
    "| Z (Altitude in km)|0.00|0.10|0.30|0.50|1.00|2.00|3.00|4.00|5.00|6.00|7.00|8.00|9.00|10.0 |\n",
    "|RH (Relative Humidity in %)|60.0|70.0|80.0|75.0|60.0|50.0|80.0|90.0|60.0|40.0|20.0|5.0|2.0|1.0|\n",
    "\n",
    "\n",
    "- Calculate $e_s(Z)$ which is given by $A\\exp{\\left[\\frac{-B}{T}\\right]}$, where $A = 2.53 \\times 10^{11} Pa$ and $B = 5420 K$\n",
    "- Calculate $e(Z)$ which is given by $\\frac{RH \\times e_s}{100}$. (Don't divide RH by 100)\n",
    "* Calculate T(z) which is given by $T = T_S - \\frac{gZ}{C_p}$, where $g = 9.806\\ m/s^2$ and $C_p = 1005\\ J/kgK$\n",
    "* Calculate P(z) which is given by $P = P_s\\exp{\\frac{-gZ}{RT}}$, where $R = 287\\ J/kgK$\n",
    "* Calculate $\\rho$(z) which is given by $\\rho = \\frac{P}{RT}$\n",
    "* Calculate q(z) which is given by $q = 0.622\\left[\\ \\frac{e}{P} \\right]$\n",
    "* Calculate W(z), given by $W = q\\times\\ \\rho$\n",
    "* Calculate h(z), given by $h = Lq + C_pT$. Where $L = 2.5006\\times\\ 10^6\\ J/kg$. (Use T in K here)\n",
    "* Calculate MSE(z), given by $MSE = h + gZ$\n",
    "* Calculate Velocity v(z), which is given by the relation, $v = v_0\\left(\\exp\\left[\\frac{Z}{Z_s}\\right] - 1\\right)$, where, $Z_s = \\frac{RT_s}{g}$ (Where $T_s$ is in Kelvin) and $v_0 = 100\\ m/s$\n",
    "* Calculate the total energy, $E = MSE + 0.5v^2$"
   ]
  },
  {
   "cell_type": "code",
   "execution_count": 3,
   "metadata": {
    "collapsed": false,
    "slideshow": {
     "slide_type": "skip"
    }
   },
   "outputs": [
    {
     "name": "stdout",
     "output_type": "stream",
     "text": [
      "Z (Altitude in km):  [  0.    0.1   0.3   0.5   1.    2.    3.    4.    5.    6.    7.    8.\n",
      "   9.   10. ]\n",
      "RH (Relative Humidity in %):  [ 60.  70.  80.  75.  60.  50.  80.  90.  60.  40.  20.   5.   2.   1.]\n"
     ]
    }
   ],
   "source": [
    "# %load ../codes/Ex2.py\n",
    "\"\"\"\n",
    "Created on Wed Jun 15 16:26:33 2016\n",
    "\n",
    "@author: kushal\n",
    "\n",
    "Program for Problem 4\n",
    "\"\"\"\n",
    "\n",
    "import numpy as np\n",
    "\n",
    "z = np.array([0.00, 0.10, 0.30, 0.50, 1.00, 2.00, 3.00, 4.00, 5.00, 6.00, 7.00, 8.00, 9.00, 10.0])\n",
    "rh = np.array([60.0, 70.0, 80.0, 75.0, 60.0, 50.0, 80.0, 90.0, 60.0, 40.0, 20.0, 5.0, 2.0, 1.0])\n",
    "\n",
    "print 'Z (Altitude in km): ', z\n",
    "print 'RH (Relative Humidity in %): ', rh\n",
    "\n",
    "Ts = 30.\n",
    "Ps = 1.e5\n",
    "A = 2.53e11\n",
    "B = 5420.\n",
    "g = 9.806\n",
    "Cp = 1005.\n",
    "R = 287.\n",
    "L = 2.5006e6\n",
    "v0 = 100.\n",
    "\n",
    "T = np.zeros(z.shape[0])\n",
    "Tk = np.array(T)\n",
    "es = np.array(T)\n",
    "e = np.array(T)\n",
    "P = np.array(T)\n",
    "rho = np.array(T)\n",
    "q = np.array(T)\n",
    "W = np.array(T)\n",
    "h = np.array(T)\n",
    "mse = np.array(T)\n",
    "v = np.array(T)\n",
    "E = np.array(T)\n",
    "\n",
    "Tk = (Ts+273.15) - ((g*z*1000)/Cp)\n",
    "T = Tk - 273.15\n",
    "es = A * np.exp(-B/Tk)\n",
    "e = (rh/100.) * es\n",
    "P = Ps * np.exp((-g*z*1000)/(R*Tk))\n",
    "rho = P/(R*Tk)\n",
    "q = 0.622 * (e/P)\n",
    "W = q * rho\n",
    "h = (L*q) + (Cp * Tk)\n",
    "mse = h + (g*z*1000)\n",
    "Zs = R * ((Ts + 273.15)/g)\n",
    "v = v0 * (np.exp((z*1000/Zs)) - 1)\n",
    "E = mse + 0.5 * (v**2)"
   ]
  },
  {
   "cell_type": "code",
   "execution_count": 4,
   "metadata": {
    "collapsed": false,
    "slideshow": {
     "slide_type": "skip"
    }
   },
   "outputs": [],
   "source": [
    "%matplotlib inline"
   ]
  },
  {
   "cell_type": "markdown",
   "metadata": {
    "slideshow": {
     "slide_type": "slide"
    }
   },
   "source": [
    "## Plotting\n",
    "---\n",
    "We will use the Matplotlib module for plotting. More specifically, the pyplot module within matplotlib.\n",
    "\n",
    "The matplotlib module is generally imported as \n",
    "``` python\n",
    "import matplotlib.pyplot as plt                   # Easiest way to import matplotlib\n",
    "from matplotlib import pyplot                     # Elaborate way and also, the full name has to be used\n",
    "from matplotlib import pyplot as plt              # same as the first method but elaborate\n",
    "```\n"
   ]
  },
  {
   "cell_type": "code",
   "execution_count": 5,
   "metadata": {
    "collapsed": false,
    "slideshow": {
     "slide_type": "subslide"
    }
   },
   "outputs": [
    {
     "data": {
      "text/plain": [
       "[<matplotlib.lines.Line2D at 0x7f2f2369d4d0>]"
      ]
     },
     "execution_count": 5,
     "metadata": {},
     "output_type": "execute_result"
    },
    {
     "data": {
      "image/png": "[encoded data removed]",
      "text/plain": [
       "<matplotlib.figure.Figure at 0x7f2f236a8390>"
      ]
     },
     "metadata": {},
     "output_type": "display_data"
    }
   ],
   "source": [
    "# Plot of Pressure vs Altitude\n",
    "\n",
    "import matplotlib.pyplot as plt\n",
    "plt.plot(z*1000,P, label='P')"
   ]
  },
  {
   "cell_type": "code",
   "execution_count": 6,
   "metadata": {
    "collapsed": false,
    "slideshow": {
     "slide_type": "subslide"
    }
   },
   "outputs": [
    {
     "data": {
      "text/plain": [
       "[<matplotlib.lines.Line2D at 0x7f2f214d31d0>]"
      ]
     },
     "execution_count": 6,
     "metadata": {},
     "output_type": "execute_result"
    },
    {
     "data": {
      "image/png": "[encoded data removed]",
      "text/plain": [
       "<matplotlib.figure.Figure at 0x7f2f2157df50>"
      ]
     },
     "metadata": {},
     "output_type": "display_data"
    }
   ],
   "source": [
    "#Above plot is incorrect because altitude generally goes in the Y-Axis. So, Let's try again\n",
    "plt.plot(P,z*1000,label='P')"
   ]
  },
  {
   "cell_type": "code",
   "execution_count": 7,
   "metadata": {
    "collapsed": false,
    "slideshow": {
     "slide_type": "subslide"
    }
   },
   "outputs": [
    {
     "data": {
      "text/plain": [
       "[<matplotlib.lines.Line2D at 0x7f2f21390390>]"
      ]
     },
     "execution_count": 7,
     "metadata": {},
     "output_type": "execute_result"
    },
    {
     "data": {
      "image/png": "[encoded data removed]",
      "text/plain": [
       "<matplotlib.figure.Figure at 0x7f2f215a51d0>"
      ]
     },
     "metadata": {},
     "output_type": "display_data"
    }
   ],
   "source": [
    "# Let's make a slightly advanced plot where we the X-Axis is common to two different plots\n",
    "fig, ax1 = plt.subplots()\n",
    "ax2 = ax1.twinx()\n",
    "\n",
    "ax1.plot(z*1000, P, 'r', label='P')\n",
    "ax2.plot(z*1000, es, 'b', label='e_s')"
   ]
  }
 ],
 "metadata": {
  "celltoolbar": "Slideshow",
  "kernelspec": {
   "display_name": "Python 2",
   "language": "python",
   "name": "python2"
  },
  "language_info": {
   "codemirror_mode": {
    "name": "ipython",
    "version": 2
   },
   "file_extension": ".py",
   "mimetype": "text/x-python",
   "name": "python",
   "nbconvert_exporter": "python",
   "pygments_lexer": "ipython2",
   "version": "2.7.11"
  }
 },
 "nbformat": 4,
 "nbformat_minor": 0
}
